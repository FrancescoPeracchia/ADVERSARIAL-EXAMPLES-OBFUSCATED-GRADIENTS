{
  "nbformat": 4,
  "nbformat_minor": 0,
  "metadata": {
    "colab": {
      "name": "Adversarial Training.ipynb",
      "provenance": []
    },
    "kernelspec": {
      "name": "python3",
      "display_name": "Python 3"
    }
  },
  "cells": [
    {
      "cell_type": "markdown",
      "metadata": {
        "id": "XDOZCCxF4CNe",
        "colab_type": "text"
      },
      "source": [
        "REQUIREMENT"
      ]
    },
    {
      "cell_type": "code",
      "metadata": {
        "id": "A3IvtDH5287L",
        "colab_type": "code",
        "colab": {}
      },
      "source": [
        "import tensorflow as tf\n",
        "\n",
        "from tensorflow.keras.datasets import mnist, cifar10\n",
        "from tensorflow.keras import Sequential\n",
        "from tensorflow.keras.callbacks import LambdaCallback\n",
        "from tensorflow.keras.layers import Conv2D, MaxPooling2D, Dropout, Dense, Flatten, Activation\n",
        "\n",
        "import numpy as np\n",
        "import random\n",
        "\n",
        "\n",
        "import matplotlib.pyplot as plt"
      ],
      "execution_count": 0,
      "outputs": []
    },
    {
      "cell_type": "markdown",
      "metadata": {
        "id": "Gk8Yu_Im362S",
        "colab_type": "text"
      },
      "source": [
        "DATA PROCESSING\n"
      ]
    },
    {
      "cell_type": "code",
      "metadata": {
        "id": "wDjsUc1f331A",
        "colab_type": "code",
        "outputId": "791c5f73-40eb-47da-bfb0-e5f789fb5e48",
        "colab": {
          "base_uri": "https://localhost:8080/",
          "height": 33
        }
      },
      "source": [
        "\n",
        "(x_train, y_train), (x_test, y_test) = cifar10.load_data()\n",
        "labels = ['airplane', 'automobile', 'bird', 'cat', 'deer', 'dog', 'frog', 'horse', 'ship', 'truck']\n",
        "img_rows, img_cols, channels = 32, 32, 3\n",
        "num_classes = 10\n",
        "\n",
        "x_train = x_train / 255\n",
        "x_test = x_test / 255\n",
        "\n",
        "x_train = x_train.reshape((-1, img_rows, img_cols, channels))\n",
        "x_test = x_test.reshape((-1, img_rows, img_cols, channels))\n",
        "\n",
        "y_train = tf.keras.utils.to_categorical(y_train, num_classes)\n",
        "y_test = tf.keras.utils.to_categorical(y_test, num_classes)\n",
        "\n",
        "print(\"Data shapes\", x_test.shape, y_test.shape, x_train.shape, y_train.shape)"
      ],
      "execution_count": 0,
      "outputs": [
        {
          "output_type": "stream",
          "text": [
            "Data shapes (10000, 32, 32, 3) (10000, 10) (50000, 32, 32, 3) (50000, 10)\n"
          ],
          "name": "stdout"
        }
      ]
    },
    {
      "cell_type": "markdown",
      "metadata": {
        "id": "WK0mfy2V4BFu",
        "colab_type": "text"
      },
      "source": [
        "SIMPLE MODEL CREATION"
      ]
    },
    {
      "cell_type": "code",
      "metadata": {
        "id": "DSP_RAnw4Z8a",
        "colab_type": "code",
        "colab": {}
      },
      "source": [
        "def create_model():\n",
        "    model = Sequential()\n",
        "    model.add(Conv2D(32, kernel_size=(4, 4), strides=(3, 3), padding='same', activation='relu', input_shape=(img_rows, img_cols, channels)))\n",
        "    model.add(Conv2D(128, kernel_size=(3, 3), strides=(3, 3), padding='same', activation='relu'))\n",
        "    model.add(Conv2D(256, kernel_size=(3, 3), strides=(3, 3), padding='same', activation='relu'))\n",
        "    model.add(MaxPooling2D(pool_size=(2, 2)))\n",
        "    model.add(Dropout(0.4))\n",
        "    model.add(Flatten())\n",
        "    model.add(Dense(30))\n",
        "    model.add(Dropout(0.3))\n",
        "    model.add(Dense(20))\n",
        "    model.add(Dropout(0.2))\n",
        "    model.add(Dense(num_classes, activation='softmax'))\n",
        "\n",
        "    model.compile(optimizer='adam', loss='mse', metrics=['accuracy'])\n",
        "    \n",
        "    return  model\n",
        "  "
      ],
      "execution_count": 0,
      "outputs": []
    },
    {
      "cell_type": "code",
      "metadata": {
        "id": "iwXvFsaa4mmB",
        "colab_type": "code",
        "colab": {}
      },
      "source": [
        "model = create_model()\n",
        "model.summary()\n"
      ],
      "execution_count": 0,
      "outputs": []
    },
    {
      "cell_type": "markdown",
      "metadata": {
        "id": "1noJ85th4s9Y",
        "colab_type": "text"
      },
      "source": [
        "NORMAL TRAINING"
      ]
    },
    {
      "cell_type": "code",
      "metadata": {
        "id": "WUQ3PHcg4sSn",
        "colab_type": "code",
        "colab": {}
      },
      "source": [
        "model.fit(x_train, y_train,\n",
        "          batch_size=256,\n",
        "          epochs=30,\n",
        "          validation_data=(x_test, y_test))"
      ],
      "execution_count": 0,
      "outputs": []
    },
    {
      "cell_type": "markdown",
      "metadata": {
        "id": "-TUI58q4454t",
        "colab_type": "text"
      },
      "source": [
        "EVALUATION"
      ]
    },
    {
      "cell_type": "code",
      "metadata": {
        "id": "MFDLEo6G48Dk",
        "colab_type": "code",
        "colab": {}
      },
      "source": [
        "print(\"Base accuracy on regular images:\", model.evaluate(x=x_test, y=y_test, verbose=0))"
      ],
      "execution_count": 0,
      "outputs": []
    },
    {
      "cell_type": "markdown",
      "metadata": {
        "id": "pe0KpsGi5AZw",
        "colab_type": "text"
      },
      "source": [
        "FGSM"
      ]
    },
    {
      "cell_type": "code",
      "metadata": {
        "id": "Je_xDbp_5EDA",
        "colab_type": "code",
        "colab": {}
      },
      "source": [
        "def adversarial_pattern(image, label):\n",
        "    image = tf.cast(image, tf.float32)\n",
        "    \n",
        "    with tf.GradientTape() as tape:\n",
        "        tape.watch(image)\n",
        "        prediction = model(image)\n",
        "        loss = tf.keras.losses.MSE(label, prediction)\n",
        "    \n",
        "    gradient = tape.gradient(loss, image)\n",
        "    \n",
        "    signed_grad = tf.sign(gradient)\n",
        "    \n",
        "    return signed_grad"
      ],
      "execution_count": 0,
      "outputs": []
    },
    {
      "cell_type": "markdown",
      "metadata": {
        "id": "Peau8cvQ5DnJ",
        "colab_type": "text"
      },
      "source": [
        "GENERATOR OF ADVERSARIAL EXAMPLES"
      ]
    },
    {
      "cell_type": "code",
      "metadata": {
        "id": "bdAAKg985Sn7",
        "colab_type": "code",
        "colab": {}
      },
      "source": [
        "def generate_adversarials(batch_size):\n",
        "    while True:\n",
        "        x = []\n",
        "        y = []\n",
        "        for batch in range(batch_size):\n",
        "            N = random.randint(0, 100)\n",
        "\n",
        "            label = y_train[N]\n",
        "            image = x_train[N]\n",
        "            \n",
        "            perturbations = adversarial_pattern(image.reshape((1, img_rows, img_cols, channels)), label).numpy()\n",
        "            \n",
        "            \n",
        "            epsilon = 0.1\n",
        "            adversarial = image + perturbations * epsilon\n",
        "            \n",
        "            x.append(adversarial)\n",
        "            y.append(y_train[N])\n",
        "        \n",
        "        \n",
        "        x = np.asarray(x).reshape((batch_size, img_rows, img_cols, channels))\n",
        "        y = np.asarray(y)\n",
        "        \n",
        "        yield x, y"
      ],
      "execution_count": 0,
      "outputs": []
    },
    {
      "cell_type": "markdown",
      "metadata": {
        "id": "ZrKmDykwEPwI",
        "colab_type": "text"
      },
      "source": [
        "HOW CHOICE EPSYLON ε ?"
      ]
    },
    {
      "cell_type": "code",
      "metadata": {
        "id": "CnHkFQ1VAvGd",
        "colab_type": "code",
        "colab": {}
      },
      "source": [
        "def generate_adversarials_find_EPSYLON(batch_size):\n",
        "    while True:\n",
        "        x = []\n",
        "        y = []\n",
        "        z= []\n",
        "        for batch in range(batch_size):\n",
        "            N = random.randint(0, 100)\n",
        "\n",
        "            label = y_train[N]\n",
        "            image = x_train[N]\n",
        "            \n",
        "            perturbations = adversarial_pattern(image.reshape((1, img_rows, img_cols, channels)), label).numpy()\n",
        "            \n",
        "            \n",
        "            epsilon = 0.05\n",
        "            adversarial = image + perturbations * epsilon\n",
        "           \n",
        "            \n",
        "\n",
        "            x.append(adversarial)\n",
        "            y.append(y_train[N])\n",
        "            z.append(image)\n",
        "        \n",
        "        \n",
        "        x = np.asarray(x).reshape((batch_size, img_rows, img_cols, channels))\n",
        "        y = np.asarray(y)    \n",
        "        z = np.asarray(z).reshape((batch_size, img_rows, img_cols, channels))\n",
        "        \n",
        "        yield x, y, z\n",
        "\n",
        "\n",
        "\n",
        "        adversarials, correct_labels, images = next(generate_adversarials_(4))\n",
        "for adversarial, correct_label, image  in zip(adversarials, correct_labels, images):\n",
        "    print('Prediction:', labels[model.predict(adversarial.reshape((1, img_rows, img_cols, channels))).argmax()], 'Truth:', labels[correct_label.argmax()])\n",
        "    #show  perturbated images\n",
        "    if channels == 1:\n",
        "        plt.imshow(adversarial.reshape(img_rows, img_cols))\n",
        "    else:\n",
        "        plt.imshow(adversarial)\n",
        "    plt.show()\n",
        "    #show  original images\n",
        "    if channels == 1:\n",
        "        plt.imshow(image.reshape(img_rows, img_cols))\n",
        "    else:\n",
        "        plt.imshow(image)\n",
        "    plt.show()\n",
        "\n",
        "     #see the results and choice an ε  which keeps the images similar to a human observation"
      ],
      "execution_count": 0,
      "outputs": []
    },
    {
      "cell_type": "markdown",
      "metadata": {
        "id": "FG-8i_Ep2ewN",
        "colab_type": "text"
      },
      "source": [
        "GENERATION OF ADVERSARIAL EXAMPLES AND EVALUATION OF ADVERSARIAL EXAMPLES IN A NORMAL MODEL "
      ]
    },
    {
      "cell_type": "code",
      "metadata": {
        "id": "YmuPC6Zw62mH",
        "colab_type": "code",
        "colab": {}
      },
      "source": [
        "x_adversarial_train, y_adversarial_train = next(generate_adversarials(20000))\n",
        "x_adversarial_test, y_adversarial_test = next(generate_adversarials(10000))\n",
        "\n",
        "print(\"Base accuracy on adversarial images:\", model.evaluate(x=x_adversarial_test, y=y_adversarial_test, verbose=0))"
      ],
      "execution_count": 0,
      "outputs": []
    },
    {
      "cell_type": "markdown",
      "metadata": {
        "id": "TV2jeCHS7OUz",
        "colab_type": "text"
      },
      "source": [
        "ADVERSARIAL TRAINING"
      ]
    },
    {
      "cell_type": "code",
      "metadata": {
        "id": "-lrOErMo7TDu",
        "colab_type": "code",
        "colab": {}
      },
      "source": [
        "model.fit(x_adversarial_train, y_adversarial_train,\n",
        "          batch_size=256,\n",
        "          epochs=30,\n",
        "          validation_data=(x_test, y_test))"
      ],
      "execution_count": 0,
      "outputs": []
    },
    {
      "cell_type": "markdown",
      "metadata": {
        "id": "EV8CHHqn7UUn",
        "colab_type": "text"
      },
      "source": [
        "EVALUATION IN A RE-TRAINED MODEL"
      ]
    },
    {
      "cell_type": "code",
      "metadata": {
        "id": "2Kdcng167gg0",
        "colab_type": "code",
        "colab": {}
      },
      "source": [
        "print(\"Defended accuracy on adversarial images:\", model.evaluate(x=x_adversarial_test, y=y_adversarial_test, verbose=0))\n",
        "\n",
        "\n",
        "print(\"Defended accuracy on regular images:\", model.evaluate(x=x_test, y=y_test, verbose=0))\n",
        "\n",
        "\n",
        "new_x_adversarial_test, new_y_adversarial_test = next(generate_adversarials(10000))\n",
        "print(\"Defended accuracy on adversarial new images:\", model.evaluate(x=new_x_adversarial_test, y=new_y_adversarial_test, verbose=0))"
      ],
      "execution_count": 0,
      "outputs": []
    },
    {
      "cell_type": "markdown",
      "metadata": {
        "id": "f3uSh7-Z1Q18",
        "colab_type": "text"
      },
      "source": [
        "TRAIN VGG16"
      ]
    }
  ]
}